{
 "cells": [
  {
   "cell_type": "code",
   "execution_count": 4,
   "metadata": {},
   "outputs": [],
   "source": [
    "from flwr.client.mod import parameters_size_mod\n",
    "\n",
    "from utils5 import * "
   ]
  },
  {
   "cell_type": "code",
   "execution_count": 5,
   "metadata": {},
   "outputs": [],
   "source": [
    "model = AutoModelForCausalLM.from_pretrained(\n",
    "    \"EleutherAI/pythia-14m\",\n",
    "    cache_dir=\"./pythia-14m/cache\",\n",
    ")"
   ]
  },
  {
   "cell_type": "code",
   "execution_count": 10,
   "metadata": {},
   "outputs": [
    {
     "name": "stderr",
     "output_type": "stream",
     "text": [
      "\u001b[92mINFO \u001b[0m: Model size is: 53 MB\n"
     ]
    }
   ],
   "source": [
    "vals = model.state_dict().values()\n",
    "total_size_bytes = sum(p.element_size() * p.numel() for p in vals)\n",
    "total_size_mb = int(total_size_bytes / (1024**2))\n",
    "\n",
    "log(INFO, \"Model size is: {} MB\".format(total_size_mb))"
   ]
  },
  {
   "cell_type": "code",
   "execution_count": 11,
   "metadata": {},
   "outputs": [],
   "source": [
    "class FlowerClient(NumPyClient):\n",
    "    def __init__(self, net):\n",
    "        self.net = net\n",
    "\n",
    "    def fit(self, parameters, config):\n",
    "        set_weights(self.net, parameters)\n",
    "        return get_weights(self.net), 1, {}\n",
    "\n",
    "    def evaluate(self, parameters, config):\n",
    "        set_weights(self.net, parameters)\n",
    "        return float(0), int(1), {\"accuracy\": 0}\n",
    "\n",
    "\n",
    "def client_fn(context: Context) -> FlowerClient:\n",
    "    return FlowerClient(model).to_client()\n",
    "\n",
    "\n",
    "client = ClientApp(client_fn, mods=[parameters_size_mod])"
   ]
  },
  {
   "cell_type": "code",
   "execution_count": 12,
   "metadata": {},
   "outputs": [],
   "source": [
    "bandwidth_sizes = []\n",
    "\n",
    "\n",
    "class BandwidthTrackingFedAvg(FedAvg):\n",
    "    def aggregate_fit(self, server_round, results, failures):\n",
    "        if not results:\n",
    "            return None, {}\n",
    "\n",
    "        # Track sizes of models received\n",
    "        for _, res in results:\n",
    "            ndas = parameters_to_ndarrays(res.parameters)\n",
    "            size = int(sum(n.nbytes for n in ndas) / (1024**2))\n",
    "            log(INFO, f\"Server receiving model size: {size} MB\")\n",
    "            bandwidth_sizes.append(size)\n",
    "\n",
    "        # Call FedAvg for actual aggregation\n",
    "        return super().aggregate_fit(server_round, results, failures)\n",
    "\n",
    "    def configure_fit(self, server_round, parameters, client_manager):\n",
    "        # Call FedAvg for actual configuration\n",
    "        instructions = super().configure_fit(server_round, parameters, client_manager)\n",
    "\n",
    "        # Track sizes of models to be sent\n",
    "        for _, ins in instructions:\n",
    "            ndas = parameters_to_ndarrays(ins.parameters)\n",
    "            size = int(sum(n.nbytes for n in ndas) / (1024**2))\n",
    "            log(INFO, f\"Server sending model size: {size} MB\")\n",
    "            bandwidth_sizes.append(size)\n",
    "\n",
    "        return instructions"
   ]
  },
  {
   "cell_type": "code",
   "execution_count": 13,
   "metadata": {},
   "outputs": [],
   "source": [
    "params = ndarrays_to_parameters(get_weights(model))\n",
    "\n",
    "\n",
    "def server_fn(context: Context):\n",
    "    strategy = BandwidthTrackingFedAvg(\n",
    "        fraction_evaluate=0.0,\n",
    "        initial_parameters=params,\n",
    "    )\n",
    "    config = ServerConfig(num_rounds=1)\n",
    "    return ServerAppComponents(\n",
    "        strategy=strategy,\n",
    "        config=config,\n",
    "    )\n",
    "\n",
    "\n",
    "server = ServerApp(server_fn=server_fn)"
   ]
  },
  {
   "cell_type": "code",
   "execution_count": 14,
   "metadata": {},
   "outputs": [
    {
     "name": "stderr",
     "output_type": "stream",
     "text": [
      "\u001b[92mINFO \u001b[0m: Starting Flower ServerApp, config: num_rounds=1, no round_timeout\n",
      "\u001b[92mINFO \u001b[0m: \n",
      "\u001b[92mINFO \u001b[0m: [INIT]\n",
      "\u001b[92mINFO \u001b[0m: Using initial global parameters provided by strategy\n",
      "\u001b[92mINFO \u001b[0m: Starting evaluation of initial global parameters\n",
      "\u001b[92mINFO \u001b[0m: Evaluation returned no results (`None`)\n",
      "\u001b[92mINFO \u001b[0m: \n",
      "\u001b[92mINFO \u001b[0m: [ROUND 1]\n",
      "\u001b[92mINFO \u001b[0m: Server sending model size: 53 MB\n",
      "\u001b[92mINFO \u001b[0m: Server sending model size: 53 MB\n",
      "\u001b[92mINFO \u001b[0m: configure_fit: strategy sampled 2 clients (out of 2)\n",
      "\u001b[36m(ClientAppActor pid=22239)\u001b[0m \u001b[92mINFO \u001b[0m: {'fitins.parameters': {'parameters': 14067712, 'bytes': 56280718}}\n",
      "\u001b[36m(ClientAppActor pid=22239)\u001b[0m \u001b[92mINFO \u001b[0m: Total parameters transmitted: 56280718 bytes\n",
      "\u001b[92mINFO \u001b[0m: aggregate_fit: received 2 results and 0 failures\n",
      "\u001b[92mINFO \u001b[0m: Server receiving model size: 53 MB\n",
      "\u001b[92mINFO \u001b[0m: Server receiving model size: 53 MB\n",
      "\u001b[92mINFO \u001b[0m: configure_evaluate: no clients selected, skipping evaluation\n",
      "\u001b[92mINFO \u001b[0m: \n",
      "\u001b[92mINFO \u001b[0m: [SUMMARY]\n",
      "\u001b[92mINFO \u001b[0m: Run finished 1 round(s) in 18.54s\n",
      "\u001b[92mINFO \u001b[0m: \n",
      "\u001b[36m(ClientAppActor pid=22237)\u001b[0m \u001b[92mINFO \u001b[0m: {'fitins.parameters': {'parameters': 14067712, 'bytes': 56280718}}\n",
      "\u001b[36m(ClientAppActor pid=22237)\u001b[0m \u001b[92mINFO \u001b[0m: Total parameters transmitted: 56280718 bytes\n"
     ]
    }
   ],
   "source": [
    "run_simulation(\n",
    "    server_app=server, client_app=client, num_supernodes=2, backend_config=backend_setup\n",
    ")"
   ]
  },
  {
   "cell_type": "code",
   "execution_count": 15,
   "metadata": {},
   "outputs": [
    {
     "name": "stderr",
     "output_type": "stream",
     "text": [
      "\u001b[92mINFO \u001b[0m: Total bandwidth used: 212 MB\n"
     ]
    }
   ],
   "source": [
    "log(INFO, \"Total bandwidth used: {} MB\".format(sum(bandwidth_sizes)))"
   ]
  }
 ],
 "metadata": {
  "kernelspec": {
   "display_name": "fl",
   "language": "python",
   "name": "python3"
  },
  "language_info": {
   "codemirror_mode": {
    "name": "ipython",
    "version": 3
   },
   "file_extension": ".py",
   "mimetype": "text/x-python",
   "name": "python",
   "nbconvert_exporter": "python",
   "pygments_lexer": "ipython3",
   "version": "3.11.10"
  }
 },
 "nbformat": 4,
 "nbformat_minor": 2
}
