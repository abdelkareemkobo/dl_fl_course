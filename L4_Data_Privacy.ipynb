{
 "cells": [
  {
   "cell_type": "code",
   "execution_count": 1,
   "metadata": {},
   "outputs": [
    {
     "name": "stderr",
     "output_type": "stream",
     "text": [
      "/home/kareem/mambaforge/envs/fl/lib/python3.11/site-packages/tqdm/auto.py:21: TqdmWarning: IProgress not found. Please update jupyter and ipywidgets. See https://ipywidgets.readthedocs.io/en/stable/user_install.html\n",
      "  from .autonotebook import tqdm as notebook_tqdm\n",
      "2024-11-11 03:28:53,598\tINFO util.py:154 -- Missing packages: ['ipywidgets']. Run `pip install -U ipywidgets`, then restart the notebook server for rich notebook output.\n"
     ]
    }
   ],
   "source": [
    "from flwr.client.mod import adaptiveclipping_mod\n",
    "from flwr.server.strategy import (\n",
    "    DifferentialPrivacyClientSideAdaptiveClipping,\n",
    "    FedAvg,\n",
    ")\n",
    "\n",
    "from utils4 import *"
   ]
  },
  {
   "cell_type": "code",
   "execution_count": 2,
   "metadata": {},
   "outputs": [],
   "source": [
    "def load_data(partition_id):\n",
    "    fds = FederatedDataset(dataset=\"mnist\", partitioners={\"train\": 10})\n",
    "    partition = fds.load_partition(partition_id)\n",
    "\n",
    "    traintest = partition.train_test_split(test_size=0.2, seed=42)\n",
    "    traintest = traintest.with_transform(normalize)\n",
    "    trainset, testset = traintest[\"train\"], traintest[\"test\"]\n",
    "\n",
    "    trainloader = DataLoader(trainset, batch_size=64, shuffle=True)\n",
    "    testloader = DataLoader(testset, batch_size=64)\n",
    "    return trainloader, testloader"
   ]
  },
  {
   "cell_type": "code",
   "execution_count": 3,
   "metadata": {},
   "outputs": [],
   "source": [
    "class FlowerClient(NumPyClient):\n",
    "    def __init__(self, net, trainloader, testloader):\n",
    "        self.net = net\n",
    "        self.trainloader = trainloader\n",
    "        self.testloader = testloader\n",
    "\n",
    "    def fit(self, parameters, config):\n",
    "        set_weights(self.net, parameters)\n",
    "        train_model(self.net, self.trainloader)\n",
    "        return get_weights(self.net), len(self.trainloader), {}\n",
    "\n",
    "    def evaluate(self, parameters, config):\n",
    "        set_weights(self.net, parameters)\n",
    "        loss, accuracy = evaluate_model(self.net, self.testloader)\n",
    "        return loss, len(self.testloader), {\"accuracy\": accuracy}\n",
    "\n",
    "\n",
    "def client_fn(context: Context) -> Client:\n",
    "    net = SimpleModel()\n",
    "    partition_id = int(context.node_config[\"partition-id\"])\n",
    "    trainloader, testloader = load_data(partition_id=partition_id)\n",
    "    return FlowerClient(net, trainloader, testloader).to_client()"
   ]
  },
  {
   "cell_type": "code",
   "execution_count": 4,
   "metadata": {},
   "outputs": [],
   "source": [
    "client = ClientApp(\n",
    "    client_fn,\n",
    "    mods=[adaptiveclipping_mod],  # modifiers\n",
    ")"
   ]
  },
  {
   "cell_type": "markdown",
   "metadata": {},
   "source": [
    "# DP : Differential Privacy"
   ]
  },
  {
   "cell_type": "code",
   "execution_count": 5,
   "metadata": {},
   "outputs": [],
   "source": [
    "net = SimpleModel()\n",
    "params = ndarrays_to_parameters(get_weights(net))"
   ]
  },
  {
   "cell_type": "code",
   "execution_count": 6,
   "metadata": {},
   "outputs": [],
   "source": [
    "net = SimpleModel()\n",
    "params = ndarrays_to_parameters(get_weights(net))\n",
    "\n",
    "\n",
    "def server_fn(context: Context):\n",
    "    fedavg_without_dp = FedAvg(\n",
    "        fraction_fit=0.6,\n",
    "        fraction_evaluate=1.0,\n",
    "        initial_parameters=params,\n",
    "    )\n",
    "    fedavg_with_dp = DifferentialPrivacyClientSideAdaptiveClipping(\n",
    "        fedavg_without_dp,  # <- wrap the FedAvg strategy\n",
    "        noise_multiplier=0.3,\n",
    "        num_sampled_clients=6,\n",
    "    )\n",
    "\n",
    "    # Adjust to 50 rounds to ensure DP guarantees hold\n",
    "    # with respect to the desired privacy budget\n",
    "    config = ServerConfig(num_rounds=5)\n",
    "\n",
    "    return ServerAppComponents(\n",
    "        strategy=fedavg_with_dp,\n",
    "        config=config,\n",
    "    )"
   ]
  },
  {
   "cell_type": "code",
   "execution_count": 7,
   "metadata": {},
   "outputs": [],
   "source": [
    "server = ServerApp(server_fn=server_fn)"
   ]
  },
  {
   "cell_type": "code",
   "execution_count": 8,
   "metadata": {},
   "outputs": [
    {
     "name": "stderr",
     "output_type": "stream",
     "text": [
      "\u001b[92mINFO \u001b[0m: Starting Flower ServerApp, config: num_rounds=5, no round_timeout\n",
      "\u001b[92mINFO \u001b[0m: \n",
      "\u001b[92mINFO \u001b[0m: [INIT]\n",
      "\u001b[92mINFO \u001b[0m: Using initial global parameters provided by strategy\n",
      "\u001b[92mINFO \u001b[0m: Starting evaluation of initial global parameters\n",
      "\u001b[92mINFO \u001b[0m: Evaluation returned no results (`None`)\n",
      "\u001b[92mINFO \u001b[0m: \n",
      "\u001b[92mINFO \u001b[0m: [ROUND 1]\n",
      "\u001b[92mINFO \u001b[0m: configure_fit: strategy sampled 2 clients (out of 10)\n",
      "\u001b[36m(ClientAppActor pid=35217)\u001b[0m \u001b[92mINFO \u001b[0m: adaptiveclipping_mod: parameters are clipped by value: 0.1000.\n",
      "\u001b[92mINFO \u001b[0m: aggregate_fit: received 2 results and 0 failures\n",
      "\u001b[92mINFO \u001b[0m: aggregate_fit: central DP noise with 0.0051 stdev added\n",
      "\u001b[92mINFO \u001b[0m: configure_evaluate: strategy sampled 10 clients (out of 10)\n",
      "\u001b[92mINFO \u001b[0m: aggregate_evaluate: received 10 results and 0 failures\n",
      "\u001b[92mINFO \u001b[0m: \n",
      "\u001b[92mINFO \u001b[0m: [ROUND 2]\n",
      "\u001b[92mINFO \u001b[0m: configure_fit: strategy sampled 6 clients (out of 10)\n",
      "\u001b[36m(ClientAppActor pid=35217)\u001b[0m \u001b[92mINFO \u001b[0m: adaptiveclipping_mod: parameters are clipped by value: 0.0889.\u001b[32m [repeated 2x across cluster] (Ray deduplicates logs by default. Set RAY_DEDUP_LOGS=0 to disable log deduplication, or see https://docs.ray.io/en/master/ray-observability/ray-logging.html#log-deduplication for more options.)\u001b[0m\n",
      "\u001b[92mINFO \u001b[0m: aggregate_fit: received 6 results and 0 failures\n",
      "\u001b[92mINFO \u001b[0m: aggregate_fit: central DP noise with 0.0047 stdev added\n",
      "\u001b[92mINFO \u001b[0m: configure_evaluate: strategy sampled 10 clients (out of 10)\n",
      "\u001b[92mINFO \u001b[0m: aggregate_evaluate: received 10 results and 0 failures\n",
      "\u001b[92mINFO \u001b[0m: \n",
      "\u001b[92mINFO \u001b[0m: [ROUND 3]\n",
      "\u001b[92mINFO \u001b[0m: configure_fit: strategy sampled 6 clients (out of 10)\n",
      "\u001b[36m(ClientAppActor pid=35214)\u001b[0m \u001b[92mINFO \u001b[0m: adaptiveclipping_mod: parameters are clipped by value: 0.0807.\u001b[32m [repeated 6x across cluster]\u001b[0m\n",
      "\u001b[92mINFO \u001b[0m: aggregate_fit: received 6 results and 0 failures\n",
      "\u001b[92mINFO \u001b[0m: aggregate_fit: central DP noise with 0.0043 stdev added\n",
      "\u001b[92mINFO \u001b[0m: configure_evaluate: strategy sampled 10 clients (out of 10)\n",
      "\u001b[92mINFO \u001b[0m: aggregate_evaluate: received 10 results and 0 failures\n",
      "\u001b[92mINFO \u001b[0m: \n",
      "\u001b[92mINFO \u001b[0m: [ROUND 4]\n",
      "\u001b[92mINFO \u001b[0m: configure_fit: strategy sampled 6 clients (out of 10)\n",
      "\u001b[36m(ClientAppActor pid=35217)\u001b[0m \u001b[92mINFO \u001b[0m: adaptiveclipping_mod: parameters are clipped by value: 0.0741.\u001b[32m [repeated 6x across cluster]\u001b[0m\n",
      "\u001b[92mINFO \u001b[0m: aggregate_fit: received 6 results and 0 failures\n",
      "\u001b[92mINFO \u001b[0m: aggregate_fit: central DP noise with 0.0038 stdev added\n",
      "\u001b[92mINFO \u001b[0m: configure_evaluate: strategy sampled 10 clients (out of 10)\n",
      "\u001b[92mINFO \u001b[0m: aggregate_evaluate: received 10 results and 0 failures\n",
      "\u001b[92mINFO \u001b[0m: \n",
      "\u001b[92mINFO \u001b[0m: [ROUND 5]\n",
      "\u001b[92mINFO \u001b[0m: configure_fit: strategy sampled 6 clients (out of 10)\n",
      "\u001b[36m(ClientAppActor pid=35213)\u001b[0m \u001b[92mINFO \u001b[0m: adaptiveclipping_mod: parameters are clipped by value: 0.0665.\u001b[32m [repeated 6x across cluster]\u001b[0m\n",
      "\u001b[92mINFO \u001b[0m: aggregate_fit: received 6 results and 0 failures\n",
      "\u001b[92mINFO \u001b[0m: aggregate_fit: central DP noise with 0.0035 stdev added\n",
      "\u001b[92mINFO \u001b[0m: configure_evaluate: strategy sampled 10 clients (out of 10)\n",
      "\u001b[92mINFO \u001b[0m: aggregate_evaluate: received 10 results and 0 failures\n",
      "\u001b[92mINFO \u001b[0m: \n",
      "\u001b[92mINFO \u001b[0m: [SUMMARY]\n",
      "\u001b[92mINFO \u001b[0m: Run finished 5 round(s) in 83.73s\n",
      "\u001b[92mINFO \u001b[0m: \tHistory (loss, distributed):\n",
      "\u001b[92mINFO \u001b[0m: \t\tround 1: 42.65374579429626\n",
      "\u001b[92mINFO \u001b[0m: \t\tround 2: 41.42165043354034\n",
      "\u001b[92mINFO \u001b[0m: \t\tround 3: 40.32773447036743\n",
      "\u001b[92mINFO \u001b[0m: \t\tround 4: 39.23607487678528\n",
      "\u001b[92mINFO \u001b[0m: \t\tround 5: 38.17467204332352\n",
      "\u001b[92mINFO \u001b[0m: \n",
      "\u001b[36m(ClientAppActor pid=35216)\u001b[0m \u001b[92mINFO \u001b[0m: adaptiveclipping_mod: parameters are clipped by value: 0.0665.\u001b[32m [repeated 5x across cluster]\u001b[0m\n"
     ]
    }
   ],
   "source": [
    "run_simulation(\n",
    "    server_app=server,\n",
    "    client_app=client,\n",
    "    num_supernodes=10,\n",
    "    backend_config=backend_setup,\n",
    ")"
   ]
  },
  {
   "cell_type": "code",
   "execution_count": null,
   "metadata": {},
   "outputs": [],
   "source": []
  }
 ],
 "metadata": {
  "kernelspec": {
   "display_name": "fl",
   "language": "python",
   "name": "python3"
  },
  "language_info": {
   "codemirror_mode": {
    "name": "ipython",
    "version": 3
   },
   "file_extension": ".py",
   "mimetype": "text/x-python",
   "name": "python",
   "nbconvert_exporter": "python",
   "pygments_lexer": "ipython3",
   "version": "3.11.10"
  }
 },
 "nbformat": 4,
 "nbformat_minor": 2
}
